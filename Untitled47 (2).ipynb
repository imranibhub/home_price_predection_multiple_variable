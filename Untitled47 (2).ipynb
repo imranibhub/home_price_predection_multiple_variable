{
  "nbformat": 4,
  "nbformat_minor": 0,
  "metadata": {
    "colab": {
      "name": "Untitled47.ipynb",
      "provenance": []
    },
    "kernelspec": {
      "name": "python3",
      "display_name": "Python 3"
    },
    "language_info": {
      "name": "python"
    }
  },
  "cells": [
    {
      "cell_type": "code",
      "execution_count": null,
      "metadata": {
        "id": "vYRHcBlOvzEs"
      },
      "outputs": [],
      "source": [
        "import numpy as np \n",
        "import pandas as pd \n",
        "from sklearn import linear_model \n",
        "import matplotlib.pyplot as plt"
      ]
    },
    {
      "cell_type": "code",
      "source": [
        "df=pd.read_excel(\"/content/homeprices.xlsx\")"
      ],
      "metadata": {
        "id": "mehW8ALRwDHU"
      },
      "execution_count": null,
      "outputs": []
    },
    {
      "cell_type": "code",
      "source": [
        "df"
      ],
      "metadata": {
        "colab": {
          "base_uri": "https://localhost:8080/",
          "height": 237
        },
        "id": "t6ztdOlkwU-m",
        "outputId": "9ed388d9-c131-412c-89bf-158eca383bbb"
      },
      "execution_count": null,
      "outputs": [
        {
          "output_type": "execute_result",
          "data": {
            "text/plain": [
              "   area   price\n",
              "0  2000  500000\n",
              "1  2600  550000\n",
              "2  3000  565000\n",
              "3  3200  610000\n",
              "4  3600  680000\n",
              "5  4000  725000"
            ],
            "text/html": [
              "\n",
              "  <div id=\"df-336c4eeb-50f0-4b84-bdf6-aea276192975\">\n",
              "    <div class=\"colab-df-container\">\n",
              "      <div>\n",
              "<style scoped>\n",
              "    .dataframe tbody tr th:only-of-type {\n",
              "        vertical-align: middle;\n",
              "    }\n",
              "\n",
              "    .dataframe tbody tr th {\n",
              "        vertical-align: top;\n",
              "    }\n",
              "\n",
              "    .dataframe thead th {\n",
              "        text-align: right;\n",
              "    }\n",
              "</style>\n",
              "<table border=\"1\" class=\"dataframe\">\n",
              "  <thead>\n",
              "    <tr style=\"text-align: right;\">\n",
              "      <th></th>\n",
              "      <th>area</th>\n",
              "      <th>price</th>\n",
              "    </tr>\n",
              "  </thead>\n",
              "  <tbody>\n",
              "    <tr>\n",
              "      <th>0</th>\n",
              "      <td>2000</td>\n",
              "      <td>500000</td>\n",
              "    </tr>\n",
              "    <tr>\n",
              "      <th>1</th>\n",
              "      <td>2600</td>\n",
              "      <td>550000</td>\n",
              "    </tr>\n",
              "    <tr>\n",
              "      <th>2</th>\n",
              "      <td>3000</td>\n",
              "      <td>565000</td>\n",
              "    </tr>\n",
              "    <tr>\n",
              "      <th>3</th>\n",
              "      <td>3200</td>\n",
              "      <td>610000</td>\n",
              "    </tr>\n",
              "    <tr>\n",
              "      <th>4</th>\n",
              "      <td>3600</td>\n",
              "      <td>680000</td>\n",
              "    </tr>\n",
              "    <tr>\n",
              "      <th>5</th>\n",
              "      <td>4000</td>\n",
              "      <td>725000</td>\n",
              "    </tr>\n",
              "  </tbody>\n",
              "</table>\n",
              "</div>\n",
              "      <button class=\"colab-df-convert\" onclick=\"convertToInteractive('df-336c4eeb-50f0-4b84-bdf6-aea276192975')\"\n",
              "              title=\"Convert this dataframe to an interactive table.\"\n",
              "              style=\"display:none;\">\n",
              "        \n",
              "  <svg xmlns=\"http://www.w3.org/2000/svg\" height=\"24px\"viewBox=\"0 0 24 24\"\n",
              "       width=\"24px\">\n",
              "    <path d=\"M0 0h24v24H0V0z\" fill=\"none\"/>\n",
              "    <path d=\"M18.56 5.44l.94 2.06.94-2.06 2.06-.94-2.06-.94-.94-2.06-.94 2.06-2.06.94zm-11 1L8.5 8.5l.94-2.06 2.06-.94-2.06-.94L8.5 2.5l-.94 2.06-2.06.94zm10 10l.94 2.06.94-2.06 2.06-.94-2.06-.94-.94-2.06-.94 2.06-2.06.94z\"/><path d=\"M17.41 7.96l-1.37-1.37c-.4-.4-.92-.59-1.43-.59-.52 0-1.04.2-1.43.59L10.3 9.45l-7.72 7.72c-.78.78-.78 2.05 0 2.83L4 21.41c.39.39.9.59 1.41.59.51 0 1.02-.2 1.41-.59l7.78-7.78 2.81-2.81c.8-.78.8-2.07 0-2.86zM5.41 20L4 18.59l7.72-7.72 1.47 1.35L5.41 20z\"/>\n",
              "  </svg>\n",
              "      </button>\n",
              "      \n",
              "  <style>\n",
              "    .colab-df-container {\n",
              "      display:flex;\n",
              "      flex-wrap:wrap;\n",
              "      gap: 12px;\n",
              "    }\n",
              "\n",
              "    .colab-df-convert {\n",
              "      background-color: #E8F0FE;\n",
              "      border: none;\n",
              "      border-radius: 50%;\n",
              "      cursor: pointer;\n",
              "      display: none;\n",
              "      fill: #1967D2;\n",
              "      height: 32px;\n",
              "      padding: 0 0 0 0;\n",
              "      width: 32px;\n",
              "    }\n",
              "\n",
              "    .colab-df-convert:hover {\n",
              "      background-color: #E2EBFA;\n",
              "      box-shadow: 0px 1px 2px rgba(60, 64, 67, 0.3), 0px 1px 3px 1px rgba(60, 64, 67, 0.15);\n",
              "      fill: #174EA6;\n",
              "    }\n",
              "\n",
              "    [theme=dark] .colab-df-convert {\n",
              "      background-color: #3B4455;\n",
              "      fill: #D2E3FC;\n",
              "    }\n",
              "\n",
              "    [theme=dark] .colab-df-convert:hover {\n",
              "      background-color: #434B5C;\n",
              "      box-shadow: 0px 1px 3px 1px rgba(0, 0, 0, 0.15);\n",
              "      filter: drop-shadow(0px 1px 2px rgba(0, 0, 0, 0.3));\n",
              "      fill: #FFFFFF;\n",
              "    }\n",
              "  </style>\n",
              "\n",
              "      <script>\n",
              "        const buttonEl =\n",
              "          document.querySelector('#df-336c4eeb-50f0-4b84-bdf6-aea276192975 button.colab-df-convert');\n",
              "        buttonEl.style.display =\n",
              "          google.colab.kernel.accessAllowed ? 'block' : 'none';\n",
              "\n",
              "        async function convertToInteractive(key) {\n",
              "          const element = document.querySelector('#df-336c4eeb-50f0-4b84-bdf6-aea276192975');\n",
              "          const dataTable =\n",
              "            await google.colab.kernel.invokeFunction('convertToInteractive',\n",
              "                                                     [key], {});\n",
              "          if (!dataTable) return;\n",
              "\n",
              "          const docLinkHtml = 'Like what you see? Visit the ' +\n",
              "            '<a target=\"_blank\" href=https://colab.research.google.com/notebooks/data_table.ipynb>data table notebook</a>'\n",
              "            + ' to learn more about interactive tables.';\n",
              "          element.innerHTML = '';\n",
              "          dataTable['output_type'] = 'display_data';\n",
              "          await google.colab.output.renderOutput(dataTable, element);\n",
              "          const docLink = document.createElement('div');\n",
              "          docLink.innerHTML = docLinkHtml;\n",
              "          element.appendChild(docLink);\n",
              "        }\n",
              "      </script>\n",
              "    </div>\n",
              "  </div>\n",
              "  "
            ]
          },
          "metadata": {},
          "execution_count": 4
        }
      ]
    },
    {
      "cell_type": "code",
      "source": [
        "area=df.area\n",
        "area=area.values.reshape(-1,1)"
      ],
      "metadata": {
        "id": "ully2bnQwVNy"
      },
      "execution_count": null,
      "outputs": []
    },
    {
      "cell_type": "code",
      "source": [
        "price=df.price\n",
        "price=price.values.reshape(-1,1)"
      ],
      "metadata": {
        "id": "cYlCu_BQwZWt"
      },
      "execution_count": null,
      "outputs": []
    },
    {
      "cell_type": "code",
      "source": [
        "model=linear_model.LinearRegression()\n",
        "model.fit(area,price)"
      ],
      "metadata": {
        "colab": {
          "base_uri": "https://localhost:8080/"
        },
        "id": "UIo1TGxKwb_s",
        "outputId": "87418308-e997-4223-becb-ae529118fa3a"
      },
      "execution_count": null,
      "outputs": [
        {
          "output_type": "execute_result",
          "data": {
            "text/plain": [
              "LinearRegression()"
            ]
          },
          "metadata": {},
          "execution_count": 10
        }
      ]
    },
    {
      "cell_type": "code",
      "source": [
        "model.predict([[3300]])"
      ],
      "metadata": {
        "colab": {
          "base_uri": "https://localhost:8080/"
        },
        "id": "AdP5Bjaowjl7",
        "outputId": "d996b406-49e6-494c-9fa6-8989d455b551"
      },
      "execution_count": null,
      "outputs": [
        {
          "output_type": "execute_result",
          "data": {
            "text/plain": [
              "array([[631986.84210526]])"
            ]
          },
          "metadata": {},
          "execution_count": 12
        }
      ]
    },
    {
      "cell_type": "code",
      "source": [
        "df=pd.read_excel(\"/content/home_price_multi_variable.xlsx\")"
      ],
      "metadata": {
        "id": "RzhLP4eQw4Eo"
      },
      "execution_count": null,
      "outputs": []
    },
    {
      "cell_type": "code",
      "source": [
        "df"
      ],
      "metadata": {
        "colab": {
          "base_uri": "https://localhost:8080/",
          "height": 237
        },
        "id": "R7uy-XAY4Q0S",
        "outputId": "cf9d23bf-8fd9-453e-ca31-d6161d0a5a5c"
      },
      "execution_count": null,
      "outputs": [
        {
          "output_type": "execute_result",
          "data": {
            "text/plain": [
              "   area  bedrooms  age   price\n",
              "0  2600       3.0   20  550000\n",
              "1  3000       4.0   15  565000\n",
              "2  3200       NaN   18  610000\n",
              "3  3600       3.0   30  595000\n",
              "4  4000       5.0    8  760000\n",
              "5  4100       6.0    8  810000"
            ],
            "text/html": [
              "\n",
              "  <div id=\"df-1a8cea25-4f8e-4eff-86ba-e35d89c7e73a\">\n",
              "    <div class=\"colab-df-container\">\n",
              "      <div>\n",
              "<style scoped>\n",
              "    .dataframe tbody tr th:only-of-type {\n",
              "        vertical-align: middle;\n",
              "    }\n",
              "\n",
              "    .dataframe tbody tr th {\n",
              "        vertical-align: top;\n",
              "    }\n",
              "\n",
              "    .dataframe thead th {\n",
              "        text-align: right;\n",
              "    }\n",
              "</style>\n",
              "<table border=\"1\" class=\"dataframe\">\n",
              "  <thead>\n",
              "    <tr style=\"text-align: right;\">\n",
              "      <th></th>\n",
              "      <th>area</th>\n",
              "      <th>bedrooms</th>\n",
              "      <th>age</th>\n",
              "      <th>price</th>\n",
              "    </tr>\n",
              "  </thead>\n",
              "  <tbody>\n",
              "    <tr>\n",
              "      <th>0</th>\n",
              "      <td>2600</td>\n",
              "      <td>3.0</td>\n",
              "      <td>20</td>\n",
              "      <td>550000</td>\n",
              "    </tr>\n",
              "    <tr>\n",
              "      <th>1</th>\n",
              "      <td>3000</td>\n",
              "      <td>4.0</td>\n",
              "      <td>15</td>\n",
              "      <td>565000</td>\n",
              "    </tr>\n",
              "    <tr>\n",
              "      <th>2</th>\n",
              "      <td>3200</td>\n",
              "      <td>NaN</td>\n",
              "      <td>18</td>\n",
              "      <td>610000</td>\n",
              "    </tr>\n",
              "    <tr>\n",
              "      <th>3</th>\n",
              "      <td>3600</td>\n",
              "      <td>3.0</td>\n",
              "      <td>30</td>\n",
              "      <td>595000</td>\n",
              "    </tr>\n",
              "    <tr>\n",
              "      <th>4</th>\n",
              "      <td>4000</td>\n",
              "      <td>5.0</td>\n",
              "      <td>8</td>\n",
              "      <td>760000</td>\n",
              "    </tr>\n",
              "    <tr>\n",
              "      <th>5</th>\n",
              "      <td>4100</td>\n",
              "      <td>6.0</td>\n",
              "      <td>8</td>\n",
              "      <td>810000</td>\n",
              "    </tr>\n",
              "  </tbody>\n",
              "</table>\n",
              "</div>\n",
              "      <button class=\"colab-df-convert\" onclick=\"convertToInteractive('df-1a8cea25-4f8e-4eff-86ba-e35d89c7e73a')\"\n",
              "              title=\"Convert this dataframe to an interactive table.\"\n",
              "              style=\"display:none;\">\n",
              "        \n",
              "  <svg xmlns=\"http://www.w3.org/2000/svg\" height=\"24px\"viewBox=\"0 0 24 24\"\n",
              "       width=\"24px\">\n",
              "    <path d=\"M0 0h24v24H0V0z\" fill=\"none\"/>\n",
              "    <path d=\"M18.56 5.44l.94 2.06.94-2.06 2.06-.94-2.06-.94-.94-2.06-.94 2.06-2.06.94zm-11 1L8.5 8.5l.94-2.06 2.06-.94-2.06-.94L8.5 2.5l-.94 2.06-2.06.94zm10 10l.94 2.06.94-2.06 2.06-.94-2.06-.94-.94-2.06-.94 2.06-2.06.94z\"/><path d=\"M17.41 7.96l-1.37-1.37c-.4-.4-.92-.59-1.43-.59-.52 0-1.04.2-1.43.59L10.3 9.45l-7.72 7.72c-.78.78-.78 2.05 0 2.83L4 21.41c.39.39.9.59 1.41.59.51 0 1.02-.2 1.41-.59l7.78-7.78 2.81-2.81c.8-.78.8-2.07 0-2.86zM5.41 20L4 18.59l7.72-7.72 1.47 1.35L5.41 20z\"/>\n",
              "  </svg>\n",
              "      </button>\n",
              "      \n",
              "  <style>\n",
              "    .colab-df-container {\n",
              "      display:flex;\n",
              "      flex-wrap:wrap;\n",
              "      gap: 12px;\n",
              "    }\n",
              "\n",
              "    .colab-df-convert {\n",
              "      background-color: #E8F0FE;\n",
              "      border: none;\n",
              "      border-radius: 50%;\n",
              "      cursor: pointer;\n",
              "      display: none;\n",
              "      fill: #1967D2;\n",
              "      height: 32px;\n",
              "      padding: 0 0 0 0;\n",
              "      width: 32px;\n",
              "    }\n",
              "\n",
              "    .colab-df-convert:hover {\n",
              "      background-color: #E2EBFA;\n",
              "      box-shadow: 0px 1px 2px rgba(60, 64, 67, 0.3), 0px 1px 3px 1px rgba(60, 64, 67, 0.15);\n",
              "      fill: #174EA6;\n",
              "    }\n",
              "\n",
              "    [theme=dark] .colab-df-convert {\n",
              "      background-color: #3B4455;\n",
              "      fill: #D2E3FC;\n",
              "    }\n",
              "\n",
              "    [theme=dark] .colab-df-convert:hover {\n",
              "      background-color: #434B5C;\n",
              "      box-shadow: 0px 1px 3px 1px rgba(0, 0, 0, 0.15);\n",
              "      filter: drop-shadow(0px 1px 2px rgba(0, 0, 0, 0.3));\n",
              "      fill: #FFFFFF;\n",
              "    }\n",
              "  </style>\n",
              "\n",
              "      <script>\n",
              "        const buttonEl =\n",
              "          document.querySelector('#df-1a8cea25-4f8e-4eff-86ba-e35d89c7e73a button.colab-df-convert');\n",
              "        buttonEl.style.display =\n",
              "          google.colab.kernel.accessAllowed ? 'block' : 'none';\n",
              "\n",
              "        async function convertToInteractive(key) {\n",
              "          const element = document.querySelector('#df-1a8cea25-4f8e-4eff-86ba-e35d89c7e73a');\n",
              "          const dataTable =\n",
              "            await google.colab.kernel.invokeFunction('convertToInteractive',\n",
              "                                                     [key], {});\n",
              "          if (!dataTable) return;\n",
              "\n",
              "          const docLinkHtml = 'Like what you see? Visit the ' +\n",
              "            '<a target=\"_blank\" href=https://colab.research.google.com/notebooks/data_table.ipynb>data table notebook</a>'\n",
              "            + ' to learn more about interactive tables.';\n",
              "          element.innerHTML = '';\n",
              "          dataTable['output_type'] = 'display_data';\n",
              "          await google.colab.output.renderOutput(dataTable, element);\n",
              "          const docLink = document.createElement('div');\n",
              "          docLink.innerHTML = docLinkHtml;\n",
              "          element.appendChild(docLink);\n",
              "        }\n",
              "      </script>\n",
              "    </div>\n",
              "  </div>\n",
              "  "
            ]
          },
          "metadata": {},
          "execution_count": 24
        }
      ]
    },
    {
      "cell_type": "code",
      "source": [
        "import math \n",
        "bedroom_median=math.floor(df.bedrooms.median())"
      ],
      "metadata": {
        "id": "BjSjzNlB4RSK"
      },
      "execution_count": null,
      "outputs": []
    },
    {
      "cell_type": "code",
      "source": [
        "bedroom_median"
      ],
      "metadata": {
        "colab": {
          "base_uri": "https://localhost:8080/"
        },
        "id": "R_-441fz4V4A",
        "outputId": "325e5320-7dd1-4136-f09c-47ffad7d4c35"
      },
      "execution_count": null,
      "outputs": [
        {
          "output_type": "execute_result",
          "data": {
            "text/plain": [
              "4"
            ]
          },
          "metadata": {},
          "execution_count": 34
        }
      ]
    },
    {
      "cell_type": "code",
      "source": [
        "df.bedrooms=(df.bedrooms.fillna(bedroom_median))"
      ],
      "metadata": {
        "id": "cLmhLgbx4efM"
      },
      "execution_count": null,
      "outputs": []
    },
    {
      "cell_type": "code",
      "source": [
        "df"
      ],
      "metadata": {
        "colab": {
          "base_uri": "https://localhost:8080/",
          "height": 237
        },
        "id": "GZiaoXQT4fTJ",
        "outputId": "17d324ca-a67c-4507-ac1b-e75f7a7e70eb"
      },
      "execution_count": null,
      "outputs": [
        {
          "output_type": "execute_result",
          "data": {
            "text/plain": [
              "   area  bedrooms  age   price\n",
              "0  2600       3.0   20  550000\n",
              "1  3000       4.0   15  565000\n",
              "2  3200       4.0   18  610000\n",
              "3  3600       3.0   30  595000\n",
              "4  4000       5.0    8  760000\n",
              "5  4100       6.0    8  810000"
            ],
            "text/html": [
              "\n",
              "  <div id=\"df-7e348c45-7199-49b4-b5ea-f1e32560fc03\">\n",
              "    <div class=\"colab-df-container\">\n",
              "      <div>\n",
              "<style scoped>\n",
              "    .dataframe tbody tr th:only-of-type {\n",
              "        vertical-align: middle;\n",
              "    }\n",
              "\n",
              "    .dataframe tbody tr th {\n",
              "        vertical-align: top;\n",
              "    }\n",
              "\n",
              "    .dataframe thead th {\n",
              "        text-align: right;\n",
              "    }\n",
              "</style>\n",
              "<table border=\"1\" class=\"dataframe\">\n",
              "  <thead>\n",
              "    <tr style=\"text-align: right;\">\n",
              "      <th></th>\n",
              "      <th>area</th>\n",
              "      <th>bedrooms</th>\n",
              "      <th>age</th>\n",
              "      <th>price</th>\n",
              "    </tr>\n",
              "  </thead>\n",
              "  <tbody>\n",
              "    <tr>\n",
              "      <th>0</th>\n",
              "      <td>2600</td>\n",
              "      <td>3.0</td>\n",
              "      <td>20</td>\n",
              "      <td>550000</td>\n",
              "    </tr>\n",
              "    <tr>\n",
              "      <th>1</th>\n",
              "      <td>3000</td>\n",
              "      <td>4.0</td>\n",
              "      <td>15</td>\n",
              "      <td>565000</td>\n",
              "    </tr>\n",
              "    <tr>\n",
              "      <th>2</th>\n",
              "      <td>3200</td>\n",
              "      <td>4.0</td>\n",
              "      <td>18</td>\n",
              "      <td>610000</td>\n",
              "    </tr>\n",
              "    <tr>\n",
              "      <th>3</th>\n",
              "      <td>3600</td>\n",
              "      <td>3.0</td>\n",
              "      <td>30</td>\n",
              "      <td>595000</td>\n",
              "    </tr>\n",
              "    <tr>\n",
              "      <th>4</th>\n",
              "      <td>4000</td>\n",
              "      <td>5.0</td>\n",
              "      <td>8</td>\n",
              "      <td>760000</td>\n",
              "    </tr>\n",
              "    <tr>\n",
              "      <th>5</th>\n",
              "      <td>4100</td>\n",
              "      <td>6.0</td>\n",
              "      <td>8</td>\n",
              "      <td>810000</td>\n",
              "    </tr>\n",
              "  </tbody>\n",
              "</table>\n",
              "</div>\n",
              "      <button class=\"colab-df-convert\" onclick=\"convertToInteractive('df-7e348c45-7199-49b4-b5ea-f1e32560fc03')\"\n",
              "              title=\"Convert this dataframe to an interactive table.\"\n",
              "              style=\"display:none;\">\n",
              "        \n",
              "  <svg xmlns=\"http://www.w3.org/2000/svg\" height=\"24px\"viewBox=\"0 0 24 24\"\n",
              "       width=\"24px\">\n",
              "    <path d=\"M0 0h24v24H0V0z\" fill=\"none\"/>\n",
              "    <path d=\"M18.56 5.44l.94 2.06.94-2.06 2.06-.94-2.06-.94-.94-2.06-.94 2.06-2.06.94zm-11 1L8.5 8.5l.94-2.06 2.06-.94-2.06-.94L8.5 2.5l-.94 2.06-2.06.94zm10 10l.94 2.06.94-2.06 2.06-.94-2.06-.94-.94-2.06-.94 2.06-2.06.94z\"/><path d=\"M17.41 7.96l-1.37-1.37c-.4-.4-.92-.59-1.43-.59-.52 0-1.04.2-1.43.59L10.3 9.45l-7.72 7.72c-.78.78-.78 2.05 0 2.83L4 21.41c.39.39.9.59 1.41.59.51 0 1.02-.2 1.41-.59l7.78-7.78 2.81-2.81c.8-.78.8-2.07 0-2.86zM5.41 20L4 18.59l7.72-7.72 1.47 1.35L5.41 20z\"/>\n",
              "  </svg>\n",
              "      </button>\n",
              "      \n",
              "  <style>\n",
              "    .colab-df-container {\n",
              "      display:flex;\n",
              "      flex-wrap:wrap;\n",
              "      gap: 12px;\n",
              "    }\n",
              "\n",
              "    .colab-df-convert {\n",
              "      background-color: #E8F0FE;\n",
              "      border: none;\n",
              "      border-radius: 50%;\n",
              "      cursor: pointer;\n",
              "      display: none;\n",
              "      fill: #1967D2;\n",
              "      height: 32px;\n",
              "      padding: 0 0 0 0;\n",
              "      width: 32px;\n",
              "    }\n",
              "\n",
              "    .colab-df-convert:hover {\n",
              "      background-color: #E2EBFA;\n",
              "      box-shadow: 0px 1px 2px rgba(60, 64, 67, 0.3), 0px 1px 3px 1px rgba(60, 64, 67, 0.15);\n",
              "      fill: #174EA6;\n",
              "    }\n",
              "\n",
              "    [theme=dark] .colab-df-convert {\n",
              "      background-color: #3B4455;\n",
              "      fill: #D2E3FC;\n",
              "    }\n",
              "\n",
              "    [theme=dark] .colab-df-convert:hover {\n",
              "      background-color: #434B5C;\n",
              "      box-shadow: 0px 1px 3px 1px rgba(0, 0, 0, 0.15);\n",
              "      filter: drop-shadow(0px 1px 2px rgba(0, 0, 0, 0.3));\n",
              "      fill: #FFFFFF;\n",
              "    }\n",
              "  </style>\n",
              "\n",
              "      <script>\n",
              "        const buttonEl =\n",
              "          document.querySelector('#df-7e348c45-7199-49b4-b5ea-f1e32560fc03 button.colab-df-convert');\n",
              "        buttonEl.style.display =\n",
              "          google.colab.kernel.accessAllowed ? 'block' : 'none';\n",
              "\n",
              "        async function convertToInteractive(key) {\n",
              "          const element = document.querySelector('#df-7e348c45-7199-49b4-b5ea-f1e32560fc03');\n",
              "          const dataTable =\n",
              "            await google.colab.kernel.invokeFunction('convertToInteractive',\n",
              "                                                     [key], {});\n",
              "          if (!dataTable) return;\n",
              "\n",
              "          const docLinkHtml = 'Like what you see? Visit the ' +\n",
              "            '<a target=\"_blank\" href=https://colab.research.google.com/notebooks/data_table.ipynb>data table notebook</a>'\n",
              "            + ' to learn more about interactive tables.';\n",
              "          element.innerHTML = '';\n",
              "          dataTable['output_type'] = 'display_data';\n",
              "          await google.colab.output.renderOutput(dataTable, element);\n",
              "          const docLink = document.createElement('div');\n",
              "          docLink.innerHTML = docLinkHtml;\n",
              "          element.appendChild(docLink);\n",
              "        }\n",
              "      </script>\n",
              "    </div>\n",
              "  </div>\n",
              "  "
            ]
          },
          "metadata": {},
          "execution_count": 37
        }
      ]
    },
    {
      "cell_type": "code",
      "source": [
        "model=linear_model.LinearRegression()\n",
        "model.fit(df[['area',\"bedrooms\",\"age\"]],df.price)"
      ],
      "metadata": {
        "colab": {
          "base_uri": "https://localhost:8080/"
        },
        "id": "7_OIxPIM5vJ2",
        "outputId": "65087a55-7c8c-4231-a845-1f2a7b72918c"
      },
      "execution_count": null,
      "outputs": [
        {
          "output_type": "execute_result",
          "data": {
            "text/plain": [
              "LinearRegression()"
            ]
          },
          "metadata": {},
          "execution_count": 39
        }
      ]
    },
    {
      "cell_type": "code",
      "source": [
        "model.predict([[3000,3,40]])"
      ],
      "metadata": {
        "colab": {
          "base_uri": "https://localhost:8080/"
        },
        "id": "9FjDwOi35Nj8",
        "outputId": "ea01c521-a1b8-48bf-9c83-f4c15619376d"
      },
      "execution_count": null,
      "outputs": [
        {
          "output_type": "stream",
          "name": "stderr",
          "text": [
            "/usr/local/lib/python3.7/dist-packages/sklearn/base.py:451: UserWarning: X does not have valid feature names, but LinearRegression was fitted with feature names\n",
            "  \"X does not have valid feature names, but\"\n"
          ]
        },
        {
          "output_type": "execute_result",
          "data": {
            "text/plain": [
              "array([498408.25158031])"
            ]
          },
          "metadata": {},
          "execution_count": 40
        }
      ]
    },
    {
      "cell_type": "code",
      "source": [
        "model.predict([[2000,4,5]])"
      ],
      "metadata": {
        "colab": {
          "base_uri": "https://localhost:8080/"
        },
        "id": "Bytej_Bq6UlF",
        "outputId": "b37e4b70-2e5a-4ad4-9168-bfef7df60c37"
      },
      "execution_count": null,
      "outputs": [
        {
          "output_type": "stream",
          "name": "stderr",
          "text": [
            "/usr/local/lib/python3.7/dist-packages/sklearn/base.py:451: UserWarning: X does not have valid feature names, but LinearRegression was fitted with feature names\n",
            "  \"X does not have valid feature names, but\"\n"
          ]
        },
        {
          "output_type": "execute_result",
          "data": {
            "text/plain": [
              "array([522844.81651827])"
            ]
          },
          "metadata": {},
          "execution_count": 41
        }
      ]
    },
    {
      "cell_type": "code",
      "source": [
        "df=pd.read_excel(\"/content/hcl_interview_data.xlsx\")"
      ],
      "metadata": {
        "id": "R1OI0wwN6fGP"
      },
      "execution_count": null,
      "outputs": []
    },
    {
      "cell_type": "code",
      "source": [
        "df\n",
        "\n"
      ],
      "metadata": {
        "colab": {
          "base_uri": "https://localhost:8080/",
          "height": 300
        },
        "id": "avz-_61q7vaf",
        "outputId": "15f4bddf-ee18-43fc-b346-e85c7743e526"
      },
      "execution_count": null,
      "outputs": [
        {
          "output_type": "execute_result",
          "data": {
            "text/plain": [
              "  experince  test_score(out of 10)  interview_score(out of 10)  salary($)\n",
              "0       NaN                    8.0                           9      50000\n",
              "1       NaN                    8.0                           6      45000\n",
              "2      five                    6.0                           7      60000\n",
              "3       two                   10.0                          10      65000\n",
              "4     seven                    9.0                           6      70000\n",
              "5     three                    7.0                          10      62000\n",
              "6       ten                    NaN                           7      72000\n",
              "7    eleven                    7.0                           8      80000"
            ],
            "text/html": [
              "\n",
              "  <div id=\"df-2ef27f17-feb6-4dec-9cb5-c13c19b6baef\">\n",
              "    <div class=\"colab-df-container\">\n",
              "      <div>\n",
              "<style scoped>\n",
              "    .dataframe tbody tr th:only-of-type {\n",
              "        vertical-align: middle;\n",
              "    }\n",
              "\n",
              "    .dataframe tbody tr th {\n",
              "        vertical-align: top;\n",
              "    }\n",
              "\n",
              "    .dataframe thead th {\n",
              "        text-align: right;\n",
              "    }\n",
              "</style>\n",
              "<table border=\"1\" class=\"dataframe\">\n",
              "  <thead>\n",
              "    <tr style=\"text-align: right;\">\n",
              "      <th></th>\n",
              "      <th>experince</th>\n",
              "      <th>test_score(out of 10)</th>\n",
              "      <th>interview_score(out of 10)</th>\n",
              "      <th>salary($)</th>\n",
              "    </tr>\n",
              "  </thead>\n",
              "  <tbody>\n",
              "    <tr>\n",
              "      <th>0</th>\n",
              "      <td>NaN</td>\n",
              "      <td>8.0</td>\n",
              "      <td>9</td>\n",
              "      <td>50000</td>\n",
              "    </tr>\n",
              "    <tr>\n",
              "      <th>1</th>\n",
              "      <td>NaN</td>\n",
              "      <td>8.0</td>\n",
              "      <td>6</td>\n",
              "      <td>45000</td>\n",
              "    </tr>\n",
              "    <tr>\n",
              "      <th>2</th>\n",
              "      <td>five</td>\n",
              "      <td>6.0</td>\n",
              "      <td>7</td>\n",
              "      <td>60000</td>\n",
              "    </tr>\n",
              "    <tr>\n",
              "      <th>3</th>\n",
              "      <td>two</td>\n",
              "      <td>10.0</td>\n",
              "      <td>10</td>\n",
              "      <td>65000</td>\n",
              "    </tr>\n",
              "    <tr>\n",
              "      <th>4</th>\n",
              "      <td>seven</td>\n",
              "      <td>9.0</td>\n",
              "      <td>6</td>\n",
              "      <td>70000</td>\n",
              "    </tr>\n",
              "    <tr>\n",
              "      <th>5</th>\n",
              "      <td>three</td>\n",
              "      <td>7.0</td>\n",
              "      <td>10</td>\n",
              "      <td>62000</td>\n",
              "    </tr>\n",
              "    <tr>\n",
              "      <th>6</th>\n",
              "      <td>ten</td>\n",
              "      <td>NaN</td>\n",
              "      <td>7</td>\n",
              "      <td>72000</td>\n",
              "    </tr>\n",
              "    <tr>\n",
              "      <th>7</th>\n",
              "      <td>eleven</td>\n",
              "      <td>7.0</td>\n",
              "      <td>8</td>\n",
              "      <td>80000</td>\n",
              "    </tr>\n",
              "  </tbody>\n",
              "</table>\n",
              "</div>\n",
              "      <button class=\"colab-df-convert\" onclick=\"convertToInteractive('df-2ef27f17-feb6-4dec-9cb5-c13c19b6baef')\"\n",
              "              title=\"Convert this dataframe to an interactive table.\"\n",
              "              style=\"display:none;\">\n",
              "        \n",
              "  <svg xmlns=\"http://www.w3.org/2000/svg\" height=\"24px\"viewBox=\"0 0 24 24\"\n",
              "       width=\"24px\">\n",
              "    <path d=\"M0 0h24v24H0V0z\" fill=\"none\"/>\n",
              "    <path d=\"M18.56 5.44l.94 2.06.94-2.06 2.06-.94-2.06-.94-.94-2.06-.94 2.06-2.06.94zm-11 1L8.5 8.5l.94-2.06 2.06-.94-2.06-.94L8.5 2.5l-.94 2.06-2.06.94zm10 10l.94 2.06.94-2.06 2.06-.94-2.06-.94-.94-2.06-.94 2.06-2.06.94z\"/><path d=\"M17.41 7.96l-1.37-1.37c-.4-.4-.92-.59-1.43-.59-.52 0-1.04.2-1.43.59L10.3 9.45l-7.72 7.72c-.78.78-.78 2.05 0 2.83L4 21.41c.39.39.9.59 1.41.59.51 0 1.02-.2 1.41-.59l7.78-7.78 2.81-2.81c.8-.78.8-2.07 0-2.86zM5.41 20L4 18.59l7.72-7.72 1.47 1.35L5.41 20z\"/>\n",
              "  </svg>\n",
              "      </button>\n",
              "      \n",
              "  <style>\n",
              "    .colab-df-container {\n",
              "      display:flex;\n",
              "      flex-wrap:wrap;\n",
              "      gap: 12px;\n",
              "    }\n",
              "\n",
              "    .colab-df-convert {\n",
              "      background-color: #E8F0FE;\n",
              "      border: none;\n",
              "      border-radius: 50%;\n",
              "      cursor: pointer;\n",
              "      display: none;\n",
              "      fill: #1967D2;\n",
              "      height: 32px;\n",
              "      padding: 0 0 0 0;\n",
              "      width: 32px;\n",
              "    }\n",
              "\n",
              "    .colab-df-convert:hover {\n",
              "      background-color: #E2EBFA;\n",
              "      box-shadow: 0px 1px 2px rgba(60, 64, 67, 0.3), 0px 1px 3px 1px rgba(60, 64, 67, 0.15);\n",
              "      fill: #174EA6;\n",
              "    }\n",
              "\n",
              "    [theme=dark] .colab-df-convert {\n",
              "      background-color: #3B4455;\n",
              "      fill: #D2E3FC;\n",
              "    }\n",
              "\n",
              "    [theme=dark] .colab-df-convert:hover {\n",
              "      background-color: #434B5C;\n",
              "      box-shadow: 0px 1px 3px 1px rgba(0, 0, 0, 0.15);\n",
              "      filter: drop-shadow(0px 1px 2px rgba(0, 0, 0, 0.3));\n",
              "      fill: #FFFFFF;\n",
              "    }\n",
              "  </style>\n",
              "\n",
              "      <script>\n",
              "        const buttonEl =\n",
              "          document.querySelector('#df-2ef27f17-feb6-4dec-9cb5-c13c19b6baef button.colab-df-convert');\n",
              "        buttonEl.style.display =\n",
              "          google.colab.kernel.accessAllowed ? 'block' : 'none';\n",
              "\n",
              "        async function convertToInteractive(key) {\n",
              "          const element = document.querySelector('#df-2ef27f17-feb6-4dec-9cb5-c13c19b6baef');\n",
              "          const dataTable =\n",
              "            await google.colab.kernel.invokeFunction('convertToInteractive',\n",
              "                                                     [key], {});\n",
              "          if (!dataTable) return;\n",
              "\n",
              "          const docLinkHtml = 'Like what you see? Visit the ' +\n",
              "            '<a target=\"_blank\" href=https://colab.research.google.com/notebooks/data_table.ipynb>data table notebook</a>'\n",
              "            + ' to learn more about interactive tables.';\n",
              "          element.innerHTML = '';\n",
              "          dataTable['output_type'] = 'display_data';\n",
              "          await google.colab.output.renderOutput(dataTable, element);\n",
              "          const docLink = document.createElement('div');\n",
              "          docLink.innerHTML = docLinkHtml;\n",
              "          element.appendChild(docLink);\n",
              "        }\n",
              "      </script>\n",
              "    </div>\n",
              "  </div>\n",
              "  "
            ]
          },
          "metadata": {},
          "execution_count": 76
        }
      ]
    },
    {
      "cell_type": "code",
      "source": [
        "df.experince.fillna('zero')"
      ],
      "metadata": {
        "colab": {
          "base_uri": "https://localhost:8080/"
        },
        "id": "-f8OU0KuCvah",
        "outputId": "508f736e-5942-4727-e5ba-fd2cebc7d614"
      },
      "execution_count": null,
      "outputs": [
        {
          "output_type": "execute_result",
          "data": {
            "text/plain": [
              "0      zero\n",
              "1      zero\n",
              "2      five\n",
              "3       two\n",
              "4     seven\n",
              "5     three\n",
              "6       ten\n",
              "7    eleven\n",
              "Name: experince, dtype: object"
            ]
          },
          "metadata": {},
          "execution_count": 77
        }
      ]
    },
    {
      "cell_type": "code",
      "source": [
        "df['experince']=df.experince.fillna('zero')"
      ],
      "metadata": {
        "id": "SZic3suBC0tb"
      },
      "execution_count": null,
      "outputs": []
    },
    {
      "cell_type": "code",
      "source": [
        "df"
      ],
      "metadata": {
        "colab": {
          "base_uri": "https://localhost:8080/",
          "height": 300
        },
        "id": "fRYM42-2C6wP",
        "outputId": "04842787-283c-48a3-bd2b-2bf54cfb3400"
      },
      "execution_count": null,
      "outputs": [
        {
          "output_type": "execute_result",
          "data": {
            "text/plain": [
              "  experince  test_score(out of 10)  interview_score(out of 10)  salary($)\n",
              "0      zero                    8.0                           9      50000\n",
              "1      zero                    8.0                           6      45000\n",
              "2      five                    6.0                           7      60000\n",
              "3       two                   10.0                          10      65000\n",
              "4     seven                    9.0                           6      70000\n",
              "5     three                    7.0                          10      62000\n",
              "6       ten                    NaN                           7      72000\n",
              "7    eleven                    7.0                           8      80000"
            ],
            "text/html": [
              "\n",
              "  <div id=\"df-c786c39a-ab6d-4cbf-95cb-5f5ea27e057a\">\n",
              "    <div class=\"colab-df-container\">\n",
              "      <div>\n",
              "<style scoped>\n",
              "    .dataframe tbody tr th:only-of-type {\n",
              "        vertical-align: middle;\n",
              "    }\n",
              "\n",
              "    .dataframe tbody tr th {\n",
              "        vertical-align: top;\n",
              "    }\n",
              "\n",
              "    .dataframe thead th {\n",
              "        text-align: right;\n",
              "    }\n",
              "</style>\n",
              "<table border=\"1\" class=\"dataframe\">\n",
              "  <thead>\n",
              "    <tr style=\"text-align: right;\">\n",
              "      <th></th>\n",
              "      <th>experince</th>\n",
              "      <th>test_score(out of 10)</th>\n",
              "      <th>interview_score(out of 10)</th>\n",
              "      <th>salary($)</th>\n",
              "    </tr>\n",
              "  </thead>\n",
              "  <tbody>\n",
              "    <tr>\n",
              "      <th>0</th>\n",
              "      <td>zero</td>\n",
              "      <td>8.0</td>\n",
              "      <td>9</td>\n",
              "      <td>50000</td>\n",
              "    </tr>\n",
              "    <tr>\n",
              "      <th>1</th>\n",
              "      <td>zero</td>\n",
              "      <td>8.0</td>\n",
              "      <td>6</td>\n",
              "      <td>45000</td>\n",
              "    </tr>\n",
              "    <tr>\n",
              "      <th>2</th>\n",
              "      <td>five</td>\n",
              "      <td>6.0</td>\n",
              "      <td>7</td>\n",
              "      <td>60000</td>\n",
              "    </tr>\n",
              "    <tr>\n",
              "      <th>3</th>\n",
              "      <td>two</td>\n",
              "      <td>10.0</td>\n",
              "      <td>10</td>\n",
              "      <td>65000</td>\n",
              "    </tr>\n",
              "    <tr>\n",
              "      <th>4</th>\n",
              "      <td>seven</td>\n",
              "      <td>9.0</td>\n",
              "      <td>6</td>\n",
              "      <td>70000</td>\n",
              "    </tr>\n",
              "    <tr>\n",
              "      <th>5</th>\n",
              "      <td>three</td>\n",
              "      <td>7.0</td>\n",
              "      <td>10</td>\n",
              "      <td>62000</td>\n",
              "    </tr>\n",
              "    <tr>\n",
              "      <th>6</th>\n",
              "      <td>ten</td>\n",
              "      <td>NaN</td>\n",
              "      <td>7</td>\n",
              "      <td>72000</td>\n",
              "    </tr>\n",
              "    <tr>\n",
              "      <th>7</th>\n",
              "      <td>eleven</td>\n",
              "      <td>7.0</td>\n",
              "      <td>8</td>\n",
              "      <td>80000</td>\n",
              "    </tr>\n",
              "  </tbody>\n",
              "</table>\n",
              "</div>\n",
              "      <button class=\"colab-df-convert\" onclick=\"convertToInteractive('df-c786c39a-ab6d-4cbf-95cb-5f5ea27e057a')\"\n",
              "              title=\"Convert this dataframe to an interactive table.\"\n",
              "              style=\"display:none;\">\n",
              "        \n",
              "  <svg xmlns=\"http://www.w3.org/2000/svg\" height=\"24px\"viewBox=\"0 0 24 24\"\n",
              "       width=\"24px\">\n",
              "    <path d=\"M0 0h24v24H0V0z\" fill=\"none\"/>\n",
              "    <path d=\"M18.56 5.44l.94 2.06.94-2.06 2.06-.94-2.06-.94-.94-2.06-.94 2.06-2.06.94zm-11 1L8.5 8.5l.94-2.06 2.06-.94-2.06-.94L8.5 2.5l-.94 2.06-2.06.94zm10 10l.94 2.06.94-2.06 2.06-.94-2.06-.94-.94-2.06-.94 2.06-2.06.94z\"/><path d=\"M17.41 7.96l-1.37-1.37c-.4-.4-.92-.59-1.43-.59-.52 0-1.04.2-1.43.59L10.3 9.45l-7.72 7.72c-.78.78-.78 2.05 0 2.83L4 21.41c.39.39.9.59 1.41.59.51 0 1.02-.2 1.41-.59l7.78-7.78 2.81-2.81c.8-.78.8-2.07 0-2.86zM5.41 20L4 18.59l7.72-7.72 1.47 1.35L5.41 20z\"/>\n",
              "  </svg>\n",
              "      </button>\n",
              "      \n",
              "  <style>\n",
              "    .colab-df-container {\n",
              "      display:flex;\n",
              "      flex-wrap:wrap;\n",
              "      gap: 12px;\n",
              "    }\n",
              "\n",
              "    .colab-df-convert {\n",
              "      background-color: #E8F0FE;\n",
              "      border: none;\n",
              "      border-radius: 50%;\n",
              "      cursor: pointer;\n",
              "      display: none;\n",
              "      fill: #1967D2;\n",
              "      height: 32px;\n",
              "      padding: 0 0 0 0;\n",
              "      width: 32px;\n",
              "    }\n",
              "\n",
              "    .colab-df-convert:hover {\n",
              "      background-color: #E2EBFA;\n",
              "      box-shadow: 0px 1px 2px rgba(60, 64, 67, 0.3), 0px 1px 3px 1px rgba(60, 64, 67, 0.15);\n",
              "      fill: #174EA6;\n",
              "    }\n",
              "\n",
              "    [theme=dark] .colab-df-convert {\n",
              "      background-color: #3B4455;\n",
              "      fill: #D2E3FC;\n",
              "    }\n",
              "\n",
              "    [theme=dark] .colab-df-convert:hover {\n",
              "      background-color: #434B5C;\n",
              "      box-shadow: 0px 1px 3px 1px rgba(0, 0, 0, 0.15);\n",
              "      filter: drop-shadow(0px 1px 2px rgba(0, 0, 0, 0.3));\n",
              "      fill: #FFFFFF;\n",
              "    }\n",
              "  </style>\n",
              "\n",
              "      <script>\n",
              "        const buttonEl =\n",
              "          document.querySelector('#df-c786c39a-ab6d-4cbf-95cb-5f5ea27e057a button.colab-df-convert');\n",
              "        buttonEl.style.display =\n",
              "          google.colab.kernel.accessAllowed ? 'block' : 'none';\n",
              "\n",
              "        async function convertToInteractive(key) {\n",
              "          const element = document.querySelector('#df-c786c39a-ab6d-4cbf-95cb-5f5ea27e057a');\n",
              "          const dataTable =\n",
              "            await google.colab.kernel.invokeFunction('convertToInteractive',\n",
              "                                                     [key], {});\n",
              "          if (!dataTable) return;\n",
              "\n",
              "          const docLinkHtml = 'Like what you see? Visit the ' +\n",
              "            '<a target=\"_blank\" href=https://colab.research.google.com/notebooks/data_table.ipynb>data table notebook</a>'\n",
              "            + ' to learn more about interactive tables.';\n",
              "          element.innerHTML = '';\n",
              "          dataTable['output_type'] = 'display_data';\n",
              "          await google.colab.output.renderOutput(dataTable, element);\n",
              "          const docLink = document.createElement('div');\n",
              "          docLink.innerHTML = docLinkHtml;\n",
              "          element.appendChild(docLink);\n",
              "        }\n",
              "      </script>\n",
              "    </div>\n",
              "  </div>\n",
              "  "
            ]
          },
          "metadata": {},
          "execution_count": 79
        }
      ]
    },
    {
      "cell_type": "code",
      "source": [
        "df['experince']=[w2n.word_to_num(i) for i in df['experince']]"
      ],
      "metadata": {
        "id": "zrtVmGv3C8lz"
      },
      "execution_count": null,
      "outputs": []
    },
    {
      "cell_type": "code",
      "source": [
        "pip install word2number"
      ],
      "metadata": {
        "colab": {
          "base_uri": "https://localhost:8080/"
        },
        "id": "Gzjg4JmB9JYn",
        "outputId": "eff1d0a8-11f3-4395-8fe3-c2182e821218"
      },
      "execution_count": null,
      "outputs": [
        {
          "output_type": "stream",
          "name": "stdout",
          "text": [
            "Looking in indexes: https://pypi.org/simple, https://us-python.pkg.dev/colab-wheels/public/simple/\n",
            "Requirement already satisfied: word2number in /usr/local/lib/python3.7/dist-packages (1.1)\n"
          ]
        }
      ]
    },
    {
      "cell_type": "code",
      "source": [
        "from word2number import w2n"
      ],
      "metadata": {
        "id": "1J-LGIYc-SbU"
      },
      "execution_count": null,
      "outputs": []
    },
    {
      "cell_type": "code",
      "source": [
        "print(w2n.word_to_num('five'))"
      ],
      "metadata": {
        "colab": {
          "base_uri": "https://localhost:8080/"
        },
        "id": "3_3bNy3R927u",
        "outputId": "7ac04190-2a75-45c8-f321-6c78ac1691a6"
      },
      "execution_count": null,
      "outputs": [
        {
          "output_type": "stream",
          "name": "stdout",
          "text": [
            "5\n"
          ]
        }
      ]
    },
    {
      "cell_type": "code",
      "source": [
        "df['experince']=[w2n.word_to_num(i) for i in df['experince']]"
      ],
      "metadata": {
        "id": "r_cD5OaQDKRq"
      },
      "execution_count": null,
      "outputs": []
    },
    {
      "cell_type": "code",
      "source": [
        "df"
      ],
      "metadata": {
        "colab": {
          "base_uri": "https://localhost:8080/",
          "height": 300
        },
        "id": "KN-lC3ScDNNB",
        "outputId": "6bd54e08-ee6e-4af0-9655-322719bc380e"
      },
      "execution_count": null,
      "outputs": [
        {
          "output_type": "execute_result",
          "data": {
            "text/plain": [
              "   experince  test_score(out of 10)  interview_score(out of 10)  salary($)\n",
              "0          0                    8.0                           9      50000\n",
              "1          0                    8.0                           6      45000\n",
              "2          5                    6.0                           7      60000\n",
              "3          2                   10.0                          10      65000\n",
              "4          7                    9.0                           6      70000\n",
              "5          3                    7.0                          10      62000\n",
              "6         10                    NaN                           7      72000\n",
              "7         11                    7.0                           8      80000"
            ],
            "text/html": [
              "\n",
              "  <div id=\"df-2bf9e77c-9bdb-4840-ad2e-c95589af0c43\">\n",
              "    <div class=\"colab-df-container\">\n",
              "      <div>\n",
              "<style scoped>\n",
              "    .dataframe tbody tr th:only-of-type {\n",
              "        vertical-align: middle;\n",
              "    }\n",
              "\n",
              "    .dataframe tbody tr th {\n",
              "        vertical-align: top;\n",
              "    }\n",
              "\n",
              "    .dataframe thead th {\n",
              "        text-align: right;\n",
              "    }\n",
              "</style>\n",
              "<table border=\"1\" class=\"dataframe\">\n",
              "  <thead>\n",
              "    <tr style=\"text-align: right;\">\n",
              "      <th></th>\n",
              "      <th>experince</th>\n",
              "      <th>test_score(out of 10)</th>\n",
              "      <th>interview_score(out of 10)</th>\n",
              "      <th>salary($)</th>\n",
              "    </tr>\n",
              "  </thead>\n",
              "  <tbody>\n",
              "    <tr>\n",
              "      <th>0</th>\n",
              "      <td>0</td>\n",
              "      <td>8.0</td>\n",
              "      <td>9</td>\n",
              "      <td>50000</td>\n",
              "    </tr>\n",
              "    <tr>\n",
              "      <th>1</th>\n",
              "      <td>0</td>\n",
              "      <td>8.0</td>\n",
              "      <td>6</td>\n",
              "      <td>45000</td>\n",
              "    </tr>\n",
              "    <tr>\n",
              "      <th>2</th>\n",
              "      <td>5</td>\n",
              "      <td>6.0</td>\n",
              "      <td>7</td>\n",
              "      <td>60000</td>\n",
              "    </tr>\n",
              "    <tr>\n",
              "      <th>3</th>\n",
              "      <td>2</td>\n",
              "      <td>10.0</td>\n",
              "      <td>10</td>\n",
              "      <td>65000</td>\n",
              "    </tr>\n",
              "    <tr>\n",
              "      <th>4</th>\n",
              "      <td>7</td>\n",
              "      <td>9.0</td>\n",
              "      <td>6</td>\n",
              "      <td>70000</td>\n",
              "    </tr>\n",
              "    <tr>\n",
              "      <th>5</th>\n",
              "      <td>3</td>\n",
              "      <td>7.0</td>\n",
              "      <td>10</td>\n",
              "      <td>62000</td>\n",
              "    </tr>\n",
              "    <tr>\n",
              "      <th>6</th>\n",
              "      <td>10</td>\n",
              "      <td>NaN</td>\n",
              "      <td>7</td>\n",
              "      <td>72000</td>\n",
              "    </tr>\n",
              "    <tr>\n",
              "      <th>7</th>\n",
              "      <td>11</td>\n",
              "      <td>7.0</td>\n",
              "      <td>8</td>\n",
              "      <td>80000</td>\n",
              "    </tr>\n",
              "  </tbody>\n",
              "</table>\n",
              "</div>\n",
              "      <button class=\"colab-df-convert\" onclick=\"convertToInteractive('df-2bf9e77c-9bdb-4840-ad2e-c95589af0c43')\"\n",
              "              title=\"Convert this dataframe to an interactive table.\"\n",
              "              style=\"display:none;\">\n",
              "        \n",
              "  <svg xmlns=\"http://www.w3.org/2000/svg\" height=\"24px\"viewBox=\"0 0 24 24\"\n",
              "       width=\"24px\">\n",
              "    <path d=\"M0 0h24v24H0V0z\" fill=\"none\"/>\n",
              "    <path d=\"M18.56 5.44l.94 2.06.94-2.06 2.06-.94-2.06-.94-.94-2.06-.94 2.06-2.06.94zm-11 1L8.5 8.5l.94-2.06 2.06-.94-2.06-.94L8.5 2.5l-.94 2.06-2.06.94zm10 10l.94 2.06.94-2.06 2.06-.94-2.06-.94-.94-2.06-.94 2.06-2.06.94z\"/><path d=\"M17.41 7.96l-1.37-1.37c-.4-.4-.92-.59-1.43-.59-.52 0-1.04.2-1.43.59L10.3 9.45l-7.72 7.72c-.78.78-.78 2.05 0 2.83L4 21.41c.39.39.9.59 1.41.59.51 0 1.02-.2 1.41-.59l7.78-7.78 2.81-2.81c.8-.78.8-2.07 0-2.86zM5.41 20L4 18.59l7.72-7.72 1.47 1.35L5.41 20z\"/>\n",
              "  </svg>\n",
              "      </button>\n",
              "      \n",
              "  <style>\n",
              "    .colab-df-container {\n",
              "      display:flex;\n",
              "      flex-wrap:wrap;\n",
              "      gap: 12px;\n",
              "    }\n",
              "\n",
              "    .colab-df-convert {\n",
              "      background-color: #E8F0FE;\n",
              "      border: none;\n",
              "      border-radius: 50%;\n",
              "      cursor: pointer;\n",
              "      display: none;\n",
              "      fill: #1967D2;\n",
              "      height: 32px;\n",
              "      padding: 0 0 0 0;\n",
              "      width: 32px;\n",
              "    }\n",
              "\n",
              "    .colab-df-convert:hover {\n",
              "      background-color: #E2EBFA;\n",
              "      box-shadow: 0px 1px 2px rgba(60, 64, 67, 0.3), 0px 1px 3px 1px rgba(60, 64, 67, 0.15);\n",
              "      fill: #174EA6;\n",
              "    }\n",
              "\n",
              "    [theme=dark] .colab-df-convert {\n",
              "      background-color: #3B4455;\n",
              "      fill: #D2E3FC;\n",
              "    }\n",
              "\n",
              "    [theme=dark] .colab-df-convert:hover {\n",
              "      background-color: #434B5C;\n",
              "      box-shadow: 0px 1px 3px 1px rgba(0, 0, 0, 0.15);\n",
              "      filter: drop-shadow(0px 1px 2px rgba(0, 0, 0, 0.3));\n",
              "      fill: #FFFFFF;\n",
              "    }\n",
              "  </style>\n",
              "\n",
              "      <script>\n",
              "        const buttonEl =\n",
              "          document.querySelector('#df-2bf9e77c-9bdb-4840-ad2e-c95589af0c43 button.colab-df-convert');\n",
              "        buttonEl.style.display =\n",
              "          google.colab.kernel.accessAllowed ? 'block' : 'none';\n",
              "\n",
              "        async function convertToInteractive(key) {\n",
              "          const element = document.querySelector('#df-2bf9e77c-9bdb-4840-ad2e-c95589af0c43');\n",
              "          const dataTable =\n",
              "            await google.colab.kernel.invokeFunction('convertToInteractive',\n",
              "                                                     [key], {});\n",
              "          if (!dataTable) return;\n",
              "\n",
              "          const docLinkHtml = 'Like what you see? Visit the ' +\n",
              "            '<a target=\"_blank\" href=https://colab.research.google.com/notebooks/data_table.ipynb>data table notebook</a>'\n",
              "            + ' to learn more about interactive tables.';\n",
              "          element.innerHTML = '';\n",
              "          dataTable['output_type'] = 'display_data';\n",
              "          await google.colab.output.renderOutput(dataTable, element);\n",
              "          const docLink = document.createElement('div');\n",
              "          docLink.innerHTML = docLinkHtml;\n",
              "          element.appendChild(docLink);\n",
              "        }\n",
              "      </script>\n",
              "    </div>\n",
              "  </div>\n",
              "  "
            ]
          },
          "metadata": {},
          "execution_count": 83
        }
      ]
    },
    {
      "cell_type": "code",
      "source": [
        "test_score=df['test_score(out of 10)'].median()"
      ],
      "metadata": {
        "id": "xXhEf9iZDOY2"
      },
      "execution_count": null,
      "outputs": []
    },
    {
      "cell_type": "code",
      "source": [
        "df['test_score(out of 10)']=df['test_score(out of 10)'].fillna(test_score)"
      ],
      "metadata": {
        "id": "JUarY1xoDZY3"
      },
      "execution_count": null,
      "outputs": []
    },
    {
      "cell_type": "code",
      "source": [
        "df"
      ],
      "metadata": {
        "colab": {
          "base_uri": "https://localhost:8080/",
          "height": 300
        },
        "id": "haPA5OsyDlWb",
        "outputId": "01451517-5d62-43ed-a0b6-02749a03ffa5"
      },
      "execution_count": null,
      "outputs": [
        {
          "output_type": "execute_result",
          "data": {
            "text/plain": [
              "   experince  test_score(out of 10)  interview_score(out of 10)  salary($)\n",
              "0          0                    8.0                           9      50000\n",
              "1          0                    8.0                           6      45000\n",
              "2          5                    6.0                           7      60000\n",
              "3          2                   10.0                          10      65000\n",
              "4          7                    9.0                           6      70000\n",
              "5          3                    7.0                          10      62000\n",
              "6         10                    8.0                           7      72000\n",
              "7         11                    7.0                           8      80000"
            ],
            "text/html": [
              "\n",
              "  <div id=\"df-3409be81-1185-4994-9f02-eb225a3ef70d\">\n",
              "    <div class=\"colab-df-container\">\n",
              "      <div>\n",
              "<style scoped>\n",
              "    .dataframe tbody tr th:only-of-type {\n",
              "        vertical-align: middle;\n",
              "    }\n",
              "\n",
              "    .dataframe tbody tr th {\n",
              "        vertical-align: top;\n",
              "    }\n",
              "\n",
              "    .dataframe thead th {\n",
              "        text-align: right;\n",
              "    }\n",
              "</style>\n",
              "<table border=\"1\" class=\"dataframe\">\n",
              "  <thead>\n",
              "    <tr style=\"text-align: right;\">\n",
              "      <th></th>\n",
              "      <th>experince</th>\n",
              "      <th>test_score(out of 10)</th>\n",
              "      <th>interview_score(out of 10)</th>\n",
              "      <th>salary($)</th>\n",
              "    </tr>\n",
              "  </thead>\n",
              "  <tbody>\n",
              "    <tr>\n",
              "      <th>0</th>\n",
              "      <td>0</td>\n",
              "      <td>8.0</td>\n",
              "      <td>9</td>\n",
              "      <td>50000</td>\n",
              "    </tr>\n",
              "    <tr>\n",
              "      <th>1</th>\n",
              "      <td>0</td>\n",
              "      <td>8.0</td>\n",
              "      <td>6</td>\n",
              "      <td>45000</td>\n",
              "    </tr>\n",
              "    <tr>\n",
              "      <th>2</th>\n",
              "      <td>5</td>\n",
              "      <td>6.0</td>\n",
              "      <td>7</td>\n",
              "      <td>60000</td>\n",
              "    </tr>\n",
              "    <tr>\n",
              "      <th>3</th>\n",
              "      <td>2</td>\n",
              "      <td>10.0</td>\n",
              "      <td>10</td>\n",
              "      <td>65000</td>\n",
              "    </tr>\n",
              "    <tr>\n",
              "      <th>4</th>\n",
              "      <td>7</td>\n",
              "      <td>9.0</td>\n",
              "      <td>6</td>\n",
              "      <td>70000</td>\n",
              "    </tr>\n",
              "    <tr>\n",
              "      <th>5</th>\n",
              "      <td>3</td>\n",
              "      <td>7.0</td>\n",
              "      <td>10</td>\n",
              "      <td>62000</td>\n",
              "    </tr>\n",
              "    <tr>\n",
              "      <th>6</th>\n",
              "      <td>10</td>\n",
              "      <td>8.0</td>\n",
              "      <td>7</td>\n",
              "      <td>72000</td>\n",
              "    </tr>\n",
              "    <tr>\n",
              "      <th>7</th>\n",
              "      <td>11</td>\n",
              "      <td>7.0</td>\n",
              "      <td>8</td>\n",
              "      <td>80000</td>\n",
              "    </tr>\n",
              "  </tbody>\n",
              "</table>\n",
              "</div>\n",
              "      <button class=\"colab-df-convert\" onclick=\"convertToInteractive('df-3409be81-1185-4994-9f02-eb225a3ef70d')\"\n",
              "              title=\"Convert this dataframe to an interactive table.\"\n",
              "              style=\"display:none;\">\n",
              "        \n",
              "  <svg xmlns=\"http://www.w3.org/2000/svg\" height=\"24px\"viewBox=\"0 0 24 24\"\n",
              "       width=\"24px\">\n",
              "    <path d=\"M0 0h24v24H0V0z\" fill=\"none\"/>\n",
              "    <path d=\"M18.56 5.44l.94 2.06.94-2.06 2.06-.94-2.06-.94-.94-2.06-.94 2.06-2.06.94zm-11 1L8.5 8.5l.94-2.06 2.06-.94-2.06-.94L8.5 2.5l-.94 2.06-2.06.94zm10 10l.94 2.06.94-2.06 2.06-.94-2.06-.94-.94-2.06-.94 2.06-2.06.94z\"/><path d=\"M17.41 7.96l-1.37-1.37c-.4-.4-.92-.59-1.43-.59-.52 0-1.04.2-1.43.59L10.3 9.45l-7.72 7.72c-.78.78-.78 2.05 0 2.83L4 21.41c.39.39.9.59 1.41.59.51 0 1.02-.2 1.41-.59l7.78-7.78 2.81-2.81c.8-.78.8-2.07 0-2.86zM5.41 20L4 18.59l7.72-7.72 1.47 1.35L5.41 20z\"/>\n",
              "  </svg>\n",
              "      </button>\n",
              "      \n",
              "  <style>\n",
              "    .colab-df-container {\n",
              "      display:flex;\n",
              "      flex-wrap:wrap;\n",
              "      gap: 12px;\n",
              "    }\n",
              "\n",
              "    .colab-df-convert {\n",
              "      background-color: #E8F0FE;\n",
              "      border: none;\n",
              "      border-radius: 50%;\n",
              "      cursor: pointer;\n",
              "      display: none;\n",
              "      fill: #1967D2;\n",
              "      height: 32px;\n",
              "      padding: 0 0 0 0;\n",
              "      width: 32px;\n",
              "    }\n",
              "\n",
              "    .colab-df-convert:hover {\n",
              "      background-color: #E2EBFA;\n",
              "      box-shadow: 0px 1px 2px rgba(60, 64, 67, 0.3), 0px 1px 3px 1px rgba(60, 64, 67, 0.15);\n",
              "      fill: #174EA6;\n",
              "    }\n",
              "\n",
              "    [theme=dark] .colab-df-convert {\n",
              "      background-color: #3B4455;\n",
              "      fill: #D2E3FC;\n",
              "    }\n",
              "\n",
              "    [theme=dark] .colab-df-convert:hover {\n",
              "      background-color: #434B5C;\n",
              "      box-shadow: 0px 1px 3px 1px rgba(0, 0, 0, 0.15);\n",
              "      filter: drop-shadow(0px 1px 2px rgba(0, 0, 0, 0.3));\n",
              "      fill: #FFFFFF;\n",
              "    }\n",
              "  </style>\n",
              "\n",
              "      <script>\n",
              "        const buttonEl =\n",
              "          document.querySelector('#df-3409be81-1185-4994-9f02-eb225a3ef70d button.colab-df-convert');\n",
              "        buttonEl.style.display =\n",
              "          google.colab.kernel.accessAllowed ? 'block' : 'none';\n",
              "\n",
              "        async function convertToInteractive(key) {\n",
              "          const element = document.querySelector('#df-3409be81-1185-4994-9f02-eb225a3ef70d');\n",
              "          const dataTable =\n",
              "            await google.colab.kernel.invokeFunction('convertToInteractive',\n",
              "                                                     [key], {});\n",
              "          if (!dataTable) return;\n",
              "\n",
              "          const docLinkHtml = 'Like what you see? Visit the ' +\n",
              "            '<a target=\"_blank\" href=https://colab.research.google.com/notebooks/data_table.ipynb>data table notebook</a>'\n",
              "            + ' to learn more about interactive tables.';\n",
              "          element.innerHTML = '';\n",
              "          dataTable['output_type'] = 'display_data';\n",
              "          await google.colab.output.renderOutput(dataTable, element);\n",
              "          const docLink = document.createElement('div');\n",
              "          docLink.innerHTML = docLinkHtml;\n",
              "          element.appendChild(docLink);\n",
              "        }\n",
              "      </script>\n",
              "    </div>\n",
              "  </div>\n",
              "  "
            ]
          },
          "metadata": {},
          "execution_count": 89
        }
      ]
    },
    {
      "cell_type": "code",
      "source": [
        "model=linear_model.LinearRegression()\n",
        "model.fit(df[['experince','test_score(out of 10)','interview_score(out of 10)']],df['salary($)'])"
      ],
      "metadata": {
        "colab": {
          "base_uri": "https://localhost:8080/"
        },
        "id": "7zbH4FnuDnNF",
        "outputId": "1773bfe0-567d-40bc-82a5-8bde1df4ee6b"
      },
      "execution_count": null,
      "outputs": [
        {
          "output_type": "execute_result",
          "data": {
            "text/plain": [
              "LinearRegression()"
            ]
          },
          "metadata": {},
          "execution_count": 91
        }
      ]
    },
    {
      "cell_type": "code",
      "source": [
        "model.predict([[2,9,6]])"
      ],
      "metadata": {
        "colab": {
          "base_uri": "https://localhost:8080/"
        },
        "id": "vMVntGb7EIIF",
        "outputId": "cb8c0f7d-db22-432d-c68b-be9cdbbdfa1f"
      },
      "execution_count": null,
      "outputs": [
        {
          "output_type": "stream",
          "name": "stderr",
          "text": [
            "/usr/local/lib/python3.7/dist-packages/sklearn/base.py:451: UserWarning: X does not have valid feature names, but LinearRegression was fitted with feature names\n",
            "  \"X does not have valid feature names, but\"\n"
          ]
        },
        {
          "output_type": "execute_result",
          "data": {
            "text/plain": [
              "array([53205.96797671])"
            ]
          },
          "metadata": {},
          "execution_count": 92
        }
      ]
    },
    {
      "cell_type": "code",
      "source": [
        "model.predict([[12,10,10]])"
      ],
      "metadata": {
        "colab": {
          "base_uri": "https://localhost:8080/"
        },
        "id": "6W6rmPlWEW7b",
        "outputId": "ccbc65d7-4a34-4ccc-e08f-c84e3952abf6"
      },
      "execution_count": null,
      "outputs": [
        {
          "output_type": "stream",
          "name": "stderr",
          "text": [
            "/usr/local/lib/python3.7/dist-packages/sklearn/base.py:451: UserWarning: X does not have valid feature names, but LinearRegression was fitted with feature names\n",
            "  \"X does not have valid feature names, but\"\n"
          ]
        },
        {
          "output_type": "execute_result",
          "data": {
            "text/plain": [
              "array([92002.18340611])"
            ]
          },
          "metadata": {},
          "execution_count": 93
        }
      ]
    },
    {
      "cell_type": "code",
      "source": [
        "import numpy as np"
      ],
      "metadata": {
        "id": "dR_Qwv0hEeeO"
      },
      "execution_count": null,
      "outputs": []
    },
    {
      "cell_type": "code",
      "source": [
        "def gadient_descent(x,y):\n",
        "  m_curr=b_curr=0 \n",
        "  iterations=1000\n",
        "  n=len(x)\n",
        "  learning_rate=0.08 \n",
        "  for i in range(iterations):\n",
        "    y_predict=m_curr*x+b_curr \n",
        "    cost=(1/n)*sum([val**2 for val in (y-y_predicted)])\n",
        "    md=-(2/n)*sum(x*(y-y_predict))\n",
        "    bd=-(2/n)*sum(y-y_predict)\n",
        "    m_curr=m_curr-learning_rate* md \n",
        "    b_curr=b_curr-learning_rate*md \n",
        "    print(\"m{},b{},cost{}\".format(m_curr,b_curr,cost,i))"
      ],
      "metadata": {
        "id": "Eh5os5MzUjW8"
      },
      "execution_count": null,
      "outputs": []
    },
    {
      "cell_type": "code",
      "source": [
        "import pickle"
      ],
      "metadata": {
        "id": "LV787Ig6YiAE"
      },
      "execution_count": null,
      "outputs": []
    },
    {
      "cell_type": "code",
      "source": [
        "with open(\"C:\\\\Users\\\\malay\\\\Downloads\\\\model_pickle.txt\",\"rb\") as file:\n",
        "  pickle.dump(model,file)"
      ],
      "metadata": {
        "colab": {
          "base_uri": "https://localhost:8080/",
          "height": 189
        },
        "id": "jxdJHXTEY07m",
        "outputId": "10f89131-2a7d-4cdb-ac7f-415a0d93ae85"
      },
      "execution_count": null,
      "outputs": [
        {
          "output_type": "error",
          "ename": "FileNotFoundError",
          "evalue": "ignored",
          "traceback": [
            "\u001b[0;31m---------------------------------------------------------------------------\u001b[0m",
            "\u001b[0;31mFileNotFoundError\u001b[0m                         Traceback (most recent call last)",
            "\u001b[0;32m<ipython-input-5-4afaf4bc32b6>\u001b[0m in \u001b[0;36m<module>\u001b[0;34m()\u001b[0m\n\u001b[0;32m----> 1\u001b[0;31m \u001b[0;32mwith\u001b[0m \u001b[0mopen\u001b[0m\u001b[0;34m(\u001b[0m\u001b[0;34m\"C:\\\\Users\\\\malay\\\\Downloads\\\\model_pickle.txt\"\u001b[0m\u001b[0;34m,\u001b[0m\u001b[0;34m\"rb\"\u001b[0m\u001b[0;34m)\u001b[0m \u001b[0;32mas\u001b[0m \u001b[0mfile\u001b[0m\u001b[0;34m:\u001b[0m\u001b[0;34m\u001b[0m\u001b[0;34m\u001b[0m\u001b[0m\n\u001b[0m\u001b[1;32m      2\u001b[0m   \u001b[0mpickle\u001b[0m\u001b[0;34m.\u001b[0m\u001b[0mdump\u001b[0m\u001b[0;34m(\u001b[0m\u001b[0mmodel\u001b[0m\u001b[0;34m,\u001b[0m\u001b[0mfile\u001b[0m\u001b[0;34m)\u001b[0m\u001b[0;34m\u001b[0m\u001b[0;34m\u001b[0m\u001b[0m\n",
            "\u001b[0;31mFileNotFoundError\u001b[0m: [Errno 2] No such file or directory: 'C:\\\\Users\\\\malay\\\\Downloads\\\\model_pickle.txt'"
          ]
        }
      ]
    },
    {
      "cell_type": "code",
      "source": [
        ""
      ],
      "metadata": {
        "id": "P6-3C2zIZELt"
      },
      "execution_count": null,
      "outputs": []
    },
    {
      "cell_type": "markdown",
      "source": [
        "![image.png](data:image/png;base64,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)"
      ],
      "metadata": {
        "id": "ws8Sm1bmblYc"
      }
    },
    {
      "cell_type": "markdown",
      "source": [
        "![image.png](data:image/png;base64,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)"
      ],
      "metadata": {
        "id": "Aaih4z8jbnvK"
      }
    },
    {
      "cell_type": "markdown",
      "source": [
        "![image.png](data:image/png;base64,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)"
      ],
      "metadata": {
        "id": "YLB9x6O1bs-o"
      }
    },
    {
      "cell_type": "markdown",
      "source": [
        "![image.png](data:image/png;base64,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)"
      ],
      "metadata": {
        "id": "wzTKWDxTbzVH"
      }
    },
    {
      "cell_type": "markdown",
      "source": [
        ""
      ],
      "metadata": {
        "id": "8R5cjxiub4n6"
      }
    }
  ]
}